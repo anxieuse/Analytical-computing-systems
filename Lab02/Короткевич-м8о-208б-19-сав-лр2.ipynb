{
 "cells": [
  {
   "cell_type": "markdown",
   "metadata": {
    "collapsed": false
   },
   "source": [
    "### Системы аналитических вычислений.\n",
    "\n",
    "#### Лабораторная работа №2: \n",
    "- Задание 1А. Методы поиска корней функции: дихотомии и Ньютона.\n",
    "- Задание 2. Расширенный алгоритм Евклида поиска НОД.\n",
    "- Задание 3. Приведение уравнения поверхности к каноническому виду. \n",
    "\n",
    "#### Выполнил студент Короткевич Л. В., гр. М8О-208Б-19."
   ]
  },
  {
   "cell_type": "markdown",
   "metadata": {
    "collapsed": false
   },
   "source": [
    "#### Задание 1. Методы поиска корней функции: дихотомии и Ньютона.\n",
    "\n",
    "- Реализовать в виде функций,\n",
    "- Сделать ползунок для перебора значений вх. параметров,\n",
    "- Сделать вывод 6 кадров нахождения решения и оформить через массив графиков (6 графиков на одном холсте, расположенные в отдельных ячейках)\n",
    "- Сравнить ответ с тем, что даёт solve"
   ]
  },
  {
   "cell_type": "code",
   "execution_count": 1,
   "metadata": {
    "collapsed": false
   },
   "outputs": [
    {
     "data": {
      "text/html": [
       "<html><script type=\"math/tex; mode=display\">\\newcommand{\\Bold}[1]{\\mathbf{#1}}x \\ {\\mapsto}\\ x^{3} - 9 \\, x^{2} + 23 \\, x - 15</script></html>"
      ],
      "text/latex": [
       "\\begin{math}\n",
       "\\newcommand{\\Bold}[1]{\\mathbf{#1}}x \\ {\\mapsto}\\ x^{3} - 9 \\, x^{2} + 23 \\, x - 15\n",
       "\\end{math}"
      ],
      "text/plain": [
       "x |--> x^3 - 9*x^2 + 23*x - 15"
      ]
     },
     "execution_count": 1,
     "metadata": {
     },
     "output_type": "execute_result"
    },
    {
     "name": "stdout",
     "output_type": "stream",
     "text": [
      "<class 'sage.symbolic.expression.Expression'>\n"
     ]
    }
   ],
   "source": [
    "y(x) = x**3 - 9 * x**2 + 23 * x - 15 # функция для демонстрации методов\n",
    "y.show() # символьное выражение, aka sage symbolic expression\n",
    "print(type(y))"
   ]
  },
  {
   "cell_type": "markdown",
   "metadata": {
    "collapsed": false
   },
   "source": [
    "#### График функции."
   ]
  },
  {
   "cell_type": "code",
   "execution_count": 2,
   "metadata": {
    "collapsed": false
   },
   "outputs": [
    {
     "data": {
      "image/png": "[encoded data removed]",
      "text/plain": [
       "Graphics object consisting of 1 graphics primitive"
      ]
     },
     "execution_count": 2,
     "metadata": {
     },
     "output_type": "execute_result"
    }
   ],
   "source": [
    "plot(y, xmin = -1, xmax = 6, ymin=-4, ymax=4)"
   ]
  },
  {
   "cell_type": "markdown",
   "metadata": {
    "collapsed": false
   },
   "source": [
    "#### Поиск корней методом Дихотомии."
   ]
  },
  {
   "cell_type": "code",
   "execution_count": 3,
   "metadata": {
    "collapsed": false
   },
   "outputs": [
   ],
   "source": [
    "'''\n",
    "Функция принимает на вход 5 параметров:\n",
    "- func: символьное выражение, функция, корни которой будем искать\n",
    "- left: левая граница текущей итерации\n",
    "- right: правая граница текущей итерации\n",
    "- eps: точность вычисления корня\n",
    "- visualize: если true, функция соберет массивчик графиков и вернёт его\n",
    "\n",
    "Возвращает: left - численное решение, корешок\n",
    "            plotsArray - собсна массивчик графиков\n",
    "'''\n",
    "\n",
    "def diсhotomy(func, left, right, eps=1e-15, visualize=False):\n",
    "    # график функции\n",
    "    funcPlot = plot(y, (x, 0, 6), ymin=-4, ymax=5) \n",
    "    # массивчик графиков для визуализации\n",
    "    plotsArray = []\n",
    "    # пока не соблюдена заданная точность\n",
    "    while abs(right - left) >= eps:\n",
    "        # определяем серединку отрезка\n",
    "        mid = (left + right) / 2\n",
    "        # сравниваем значения на краях и в непосредственно серединке\n",
    "        if func(x=left) * func(x=mid) > 0:\n",
    "            left = mid\n",
    "        elif func(x=mid) * func(x=right) > 0:\n",
    "            right = mid\n",
    "        else:\n",
    "            left = right = mid\n",
    "        \n",
    "        # сохраним графичек текущей итерации в массивчик\n",
    "        if visualize:\n",
    "            plotsArray.append(\n",
    "                # текущая точка и графичек\n",
    "                ( point( (mid, func(mid)), color=\"red\", size=10 ) + funcPlot )\n",
    "            )\n",
    "        \n",
    "    if visualize:\n",
    "        return left, plotsArray\n",
    "    else:\n",
    "        return left"
   ]
  },
  {
   "cell_type": "markdown",
   "metadata": {
    "collapsed": false
   },
   "source": [
    "Убедимся в том, что функция правильно работает."
   ]
  },
  {
   "cell_type": "code",
   "execution_count": 4,
   "metadata": {
    "collapsed": false
   },
   "outputs": [
    {
     "data": {
      "text/plain": [
       "1.00000000000000"
      ]
     },
     "execution_count": 4,
     "metadata": {
     },
     "output_type": "execute_result"
    }
   ],
   "source": [
    "diсhotomy(y, -1.1, 2)"
   ]
  },
  {
   "cell_type": "code",
   "execution_count": 5,
   "metadata": {
    "collapsed": false
   },
   "outputs": [
    {
     "data": {
      "text/plain": [
       "3"
      ]
     },
     "execution_count": 5,
     "metadata": {
     },
     "output_type": "execute_result"
    }
   ],
   "source": [
    "diсhotomy(y, 2, 4)"
   ]
  },
  {
   "cell_type": "code",
   "execution_count": 6,
   "metadata": {
    "collapsed": false
   },
   "outputs": [
    {
     "data": {
      "text/plain": [
       "5.00000000000000"
      ]
     },
     "execution_count": 6,
     "metadata": {
     },
     "output_type": "execute_result"
    }
   ],
   "source": [
    "diсhotomy(y, 4.9, 1000)"
   ]
  },
  {
   "cell_type": "code",
   "execution_count": 7,
   "metadata": {
    "collapsed": false
   },
   "outputs": [
    {
     "data": {
      "text/plain": [
       "3.00000000000000"
      ]
     },
     "execution_count": 7,
     "metadata": {
     },
     "output_type": "execute_result"
    }
   ],
   "source": [
    "diсhotomy(y, 1.2, 3.1)"
   ]
  },
  {
   "cell_type": "markdown",
   "metadata": {
    "collapsed": false
   },
   "source": [
    "Теперь повизуализируем всю эту красоту."
   ]
  },
  {
   "cell_type": "code",
   "execution_count": 8,
   "metadata": {
    "collapsed": false
   },
   "outputs": [
    {
     "data": {
      "application/vnd.jupyter.widget-view+json": {
       "model_id": "a032d4d3c5764cefb3f213ef6f3e42cb",
       "version_major": 2,
       "version_minor": 0
      },
      "text/plain": [
       "Interactive function <function dichotomy_visualized at 0x7f6aebc65430> with 2 widgets\n",
       "  left: FloatSlider(valu…"
      ]
     },
     "execution_count": 8,
     "metadata": {
     },
     "output_type": "execute_result"
    }
   ],
   "source": [
    "@interact\n",
    "def dichotomy_visualized(left=(0, 6, 0.1), right=(0, 6,  0.1)):\n",
    "    result, plots = diсhotomy(y, left, right, eps=1e-1, visualize=True)\n",
    "    print('root =', result)\n",
    "    graphics_array(\n",
    "        [\n",
    "            [plots[i]] for i in range(0, len(plots), 1)\n",
    "        ]\n",
    "    ).show(figsize=5)"
   ]
  },
  {
   "cell_type": "markdown",
   "metadata": {
    "collapsed": false
   },
   "source": [
    "#### Нахождение корней методом Ньютона"
   ]
  },
  {
   "cell_type": "code",
   "execution_count": 9,
   "metadata": {
    "collapsed": false
   },
   "outputs": [
   ],
   "source": [
    "def newton(func, left, right, eps=1e-15, visualize=False):\n",
    "    funcPlot = plot(y, (x, 0, 6), ymin=-4, ymax=5) \n",
    "    plotsArray = []\n",
    "    deriv = func.derivative()\n",
    "    cur = left\n",
    "    next = (left + right) / 2\n",
    "    while abs(next - cur) > eps:\n",
    "        if visualize:\n",
    "            tan = func(x=cur) + deriv(x=cur) * (x - cur)\n",
    "            plotsArray.append(((plot(tan, (x, 0, 6), ymin=-9, ymax=5, color=\"red\")) + funcPlot))\n",
    "        cur = next\n",
    "        next = cur - func(x=cur) / deriv(x=cur)\n",
    "    if visualize:\n",
    "        tan = func(x=cur) + deriv(x=cur) * (x - cur)\n",
    "        return next, plotsArray\n",
    "    else:\n",
    "        return next"
   ]
  },
  {
   "cell_type": "markdown",
   "metadata": {
    "collapsed": false
   },
   "source": [
    "Проверим работоспособность нашей функции."
   ]
  },
  {
   "cell_type": "code",
   "execution_count": 10,
   "metadata": {
    "collapsed": false
   },
   "outputs": [
    {
     "data": {
      "text/plain": [
       "1.00000000000000"
      ]
     },
     "execution_count": 10,
     "metadata": {
     },
     "output_type": "execute_result"
    }
   ],
   "source": [
    "newton(y, -1, 1.1)"
   ]
  },
  {
   "cell_type": "code",
   "execution_count": 11,
   "metadata": {
    "collapsed": false
   },
   "outputs": [
    {
     "data": {
      "text/plain": [
       "3.00000000000000"
      ]
     },
     "execution_count": 11,
     "metadata": {
     },
     "output_type": "execute_result"
    }
   ],
   "source": [
    "newton(y, 2.99, 4)\n"
   ]
  },
  {
   "cell_type": "code",
   "execution_count": 12,
   "metadata": {
    "collapsed": false
   },
   "outputs": [
    {
     "data": {
      "text/plain": [
       "5.00000000000000"
      ]
     },
     "execution_count": 12,
     "metadata": {
     },
     "output_type": "execute_result"
    }
   ],
   "source": [
    "newton(y, 3.1, 10000)"
   ]
  },
  {
   "cell_type": "markdown",
   "metadata": {
    "collapsed": false
   },
   "source": [
    "Порисуем."
   ]
  },
  {
   "cell_type": "code",
   "execution_count": 13,
   "metadata": {
    "collapsed": false
   },
   "outputs": [
    {
     "data": {
      "application/vnd.jupyter.widget-view+json": {
       "model_id": "3929b4fa145d4231869f81becfaad637",
       "version_major": 2,
       "version_minor": 0
      },
      "text/plain": [
       "Interactive function <function newton_visualized at 0x7f6ae8643550> with 2 widgets\n",
       "  left: FloatSlider(value=3…"
      ]
     },
     "execution_count": 13,
     "metadata": {
     },
     "output_type": "execute_result"
    }
   ],
   "source": [
    "@interact\n",
    "def newton_visualized(left=(0, 6, 0.1), right=(0, 6, 0.1)):\n",
    "    result, plots = newton(y, left, right, eps=1e-2, visualize=True)\n",
    "    print('root =', result)\n",
    "    graphics_array(\n",
    "        [\n",
    "            [plots[i]] for i in range(0, len(plots), 1)\n",
    "        ]\n",
    "    ).show(figsize=5)"
   ]
  },
  {
   "cell_type": "markdown",
   "metadata": {
    "collapsed": false
   },
   "source": [
    "Сравним с solve."
   ]
  },
  {
   "cell_type": "code",
   "execution_count": 14,
   "metadata": {
    "collapsed": false
   },
   "outputs": [
    {
     "data": {
      "text/plain": [
       "[x == 1, x == 5, x == 3]"
      ]
     },
     "execution_count": 14,
     "metadata": {
     },
     "output_type": "execute_result"
    }
   ],
   "source": [
    "solve(y, x)"
   ]
  },
  {
   "cell_type": "markdown",
   "metadata": {
    "collapsed": false
   },
   "source": [
    "#### Задание 2. Расширенный алгоритм Евклида поиска НОД.\n",
    "- реализовать расширенный алгоритм Евклида,\n",
    "- получить НОД, сравнить его с результатом от функции gcd()\n",
    "- получить представление НОД в виде: f*u + v*g \n",
    "\n",
    "Вариант 5: \n",
    "\n",
    "$f = 12x^7 - 168x^5 + 288x^3 + 324x \\\\\n",
    "g = 4x^6 - 28x^4 + 20x^3 + 48x^2 - 60x$"
   ]
  },
  {
   "cell_type": "code",
   "execution_count": 15,
   "metadata": {
    "collapsed": false
   },
   "outputs": [
   ],
   "source": [
    "R.<x> = PolynomialRing(QQ) # считать будем в R - кольце рациональных чисел\n",
    "f = 12*x^7 - 168*x^5 + 288*x^3 + 324*x\n",
    "g = 4*x^6 - 28*x^4 + 20*x^3 + 48*x^2 - 60*x"
   ]
  },
  {
   "cell_type": "code",
   "execution_count": 16,
   "metadata": {
    "collapsed": false
   },
   "outputs": [
    {
     "data": {
      "text/html": [
       "<html><script type=\"math/tex; mode=display\">\\newcommand{\\Bold}[1]{\\mathbf{#1}}12 x^{7} - 168 x^{5} + 288 x^{3} + 324 x</script></html>"
      ],
      "text/latex": [
       "\\begin{math}\n",
       "\\newcommand{\\Bold}[1]{\\mathbf{#1}}12 x^{7} - 168 x^{5} + 288 x^{3} + 324 x\n",
       "\\end{math}"
      ],
      "text/plain": [
       "12*x^7 - 168*x^5 + 288*x^3 + 324*x"
      ]
     },
     "execution_count": 16,
     "metadata": {
     },
     "output_type": "execute_result"
    },
    {
     "data": {
      "text/html": [
       "<html><script type=\"math/tex; mode=display\">\\newcommand{\\Bold}[1]{\\mathbf{#1}}4 x^{6} - 28 x^{4} + 20 x^{3} + 48 x^{2} - 60 x</script></html>"
      ],
      "text/latex": [
       "\\begin{math}\n",
       "\\newcommand{\\Bold}[1]{\\mathbf{#1}}4 x^{6} - 28 x^{4} + 20 x^{3} + 48 x^{2} - 60 x\n",
       "\\end{math}"
      ],
      "text/plain": [
       "4*x^6 - 28*x^4 + 20*x^3 + 48*x^2 - 60*x"
      ]
     },
     "execution_count": 16,
     "metadata": {
     },
     "output_type": "execute_result"
    },
    {
     "data": {
      "text/html": [
       "<html><script type=\"math/tex; mode=display\">\\newcommand{\\Bold}[1]{\\mathbf{#1}}x^{3} - 3 x</script></html>"
      ],
      "text/latex": [
       "\\begin{math}\n",
       "\\newcommand{\\Bold}[1]{\\mathbf{#1}}x^{3} - 3 x\n",
       "\\end{math}"
      ],
      "text/plain": [
       "x^3 - 3*x"
      ]
     },
     "execution_count": 16,
     "metadata": {
     },
     "output_type": "execute_result"
    }
   ],
   "source": [
    "# standart gcd\n",
    "show(f)\n",
    "show(g)\n",
    "show(gcd(f, g))"
   ]
  },
  {
   "cell_type": "code",
   "execution_count": 17,
   "metadata": {
    "collapsed": false
   },
   "outputs": [
   ],
   "source": [
    "'''\n",
    "Функция принимает на вход:\n",
    "- два многочлена f, g\n",
    "    \n",
    "Возвращает:\n",
    "- полином f - НОД полиномов f и g\n",
    "- u, v - коэффициенты в разложении Безу: ax + by = gcd(a, b)\n",
    "'''\n",
    "def extGCD(f, g):\n",
    "    u, uu, v, vv = 1, 0, 0, 1\n",
    "    while g != 0:\n",
    "        quotient = f // g\n",
    "        remainder = f % g\n",
    "        q = quotient\n",
    "        f, g = g, remainder\n",
    "        u, uu = uu, u - uu*q\n",
    "        v, vv = vv, v - vv*q\n",
    "    return (f, u, v)"
   ]
  },
  {
   "cell_type": "code",
   "execution_count": 18,
   "metadata": {
    "collapsed": false
   },
   "outputs": [
    {
     "data": {
      "text/html": [
       "<html><script type=\"math/tex; mode=display\">\\newcommand{\\Bold}[1]{\\mathbf{#1}}\\verb|GCD(f,|\\phantom{\\verb!x!}\\verb|g)|\\phantom{\\verb!x!}\\verb|=| -\\frac{1}{3} x^{3} + x</script></html>"
      ],
      "text/latex": [
       "\\begin{math}\n",
       "\\newcommand{\\Bold}[1]{\\mathbf{#1}}\\verb|GCD(f,|\\phantom{\\verb!x!}\\verb|g)|\\phantom{\\verb!x!}\\verb|=| -\\frac{1}{3} x^{3} + x\n",
       "\\end{math}"
      ],
      "text/plain": [
       "'GCD(f, g) = ' -1/3*x^3 + x"
      ]
     },
     "execution_count": 18,
     "metadata": {
     },
     "output_type": "execute_result"
    },
    {
     "data": {
      "text/html": [
       "<html><script type=\"math/tex; mode=display\">\\newcommand{\\Bold}[1]{\\mathbf{#1}}\\verb|a|\\phantom{\\verb!x!}\\verb|=| -\\frac{13}{57992} x^{2} - \\frac{145}{521928} x + \\frac{361}{260964}</script></html>"
      ],
      "text/latex": [
       "\\begin{math}\n",
       "\\newcommand{\\Bold}[1]{\\mathbf{#1}}\\verb|a|\\phantom{\\verb!x!}\\verb|=| -\\frac{13}{57992} x^{2} - \\frac{145}{521928} x + \\frac{361}{260964}\n",
       "\\end{math}"
      ],
      "text/plain": [
       "'a = ' -13/57992*x^2 - 145/521928*x + 361/260964"
      ]
     },
     "execution_count": 18,
     "metadata": {
     },
     "output_type": "execute_result"
    },
    {
     "data": {
      "text/html": [
       "<html><script type=\"math/tex; mode=display\">\\newcommand{\\Bold}[1]{\\mathbf{#1}}\\verb|b|\\phantom{\\verb!x!}\\verb|=| \\frac{39}{57992} x^{3} + \\frac{145}{173976} x^{2} - \\frac{1541}{173976} x - \\frac{200}{21747}</script></html>"
      ],
      "text/latex": [
       "\\begin{math}\n",
       "\\newcommand{\\Bold}[1]{\\mathbf{#1}}\\verb|b|\\phantom{\\verb!x!}\\verb|=| \\frac{39}{57992} x^{3} + \\frac{145}{173976} x^{2} - \\frac{1541}{173976} x - \\frac{200}{21747}\n",
       "\\end{math}"
      ],
      "text/plain": [
       "'b = ' 39/57992*x^3 + 145/173976*x^2 - 1541/173976*x - 200/21747"
      ]
     },
     "execution_count": 18,
     "metadata": {
     },
     "output_type": "execute_result"
    }
   ],
   "source": [
    "normConst = 1420804/1521\n",
    "gcdPolynomial, a, b = extGCD(f, g)\n",
    "show(\"GCD(f, g) = \", gcdPolynomial(x) / normConst)\n",
    "show(\"a = \", a(x) / normConst)\n",
    "show(\"b = \", b(x) / normConst)"
   ]
  },
  {
   "cell_type": "code",
   "execution_count": 19,
   "metadata": {
    "collapsed": false
   },
   "outputs": [
    {
     "data": {
      "text/plain": [
       "-1/3*x^3 + x"
      ]
     },
     "execution_count": 19,
     "metadata": {
     },
     "output_type": "execute_result"
    }
   ],
   "source": [
    "a / normConst * f + b / normConst * g"
   ]
  },
  {
   "cell_type": "markdown",
   "metadata": {
    "collapsed": false
   },
   "source": [
    "Со стандартным GCD результат совпал. GCD в виде $af + bg$ получен. Задача решена."
   ]
  },
  {
   "cell_type": "code",
   "execution_count": 0,
   "metadata": {
    "collapsed": false
   },
   "outputs": [
   ],
   "source": [
   ]
  },
  {
   "cell_type": "code",
   "execution_count": 0,
   "metadata": {
    "collapsed": false
   },
   "outputs": [
   ],
   "source": [
   ]
  },
  {
   "cell_type": "code",
   "execution_count": 0,
   "metadata": {
    "collapsed": false
   },
   "outputs": [
   ],
   "source": [
   ]
  },
  {
   "cell_type": "code",
   "execution_count": 0,
   "metadata": {
    "collapsed": false
   },
   "outputs": [
   ],
   "source": [
   ]
  },
  {
   "cell_type": "code",
   "execution_count": 0,
   "metadata": {
    "collapsed": false
   },
   "outputs": [
   ],
   "source": [
   ]
  },
  {
   "cell_type": "code",
   "execution_count": 0,
   "metadata": {
    "collapsed": false
   },
   "outputs": [
   ],
   "source": [
   ]
  },
  {
   "cell_type": "code",
   "execution_count": 0,
   "metadata": {
    "collapsed": false
   },
   "outputs": [
   ],
   "source": [
   ]
  }
 ],
 "metadata": {
  "kernelspec": {
   "display_name": "SageMath 9.2",
   "language": "sagemath",
   "metadata": {
    "cocalc": {
     "description": "Open-source mathematical software system",
     "priority": 10,
     "url": "https://www.sagemath.org/"
    }
   },
   "name": "sage-9.2",
   "resource_dir": "/ext/jupyter/kernels/sage-9.2"
  },
  "language_info": {
   "codemirror_mode": {
    "name": "ipython",
    "version": 3
   },
   "file_extension": ".py",
   "mimetype": "text/x-python",
   "name": "python",
   "nbconvert_exporter": "python",
   "pygments_lexer": "ipython3",
   "version": "3.8.5"
  }
 },
 "nbformat": 4,
 "nbformat_minor": 4
}